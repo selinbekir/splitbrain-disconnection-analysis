{
  "nbformat": 4,
  "nbformat_minor": 0,
  "metadata": {
    "colab": {
      "provenance": []
    },
    "kernelspec": {
      "name": "python3",
      "display_name": "Python 3"
    },
    "language_info": {
      "name": "python"
    }
  },
  "cells": [
    {
      "cell_type": "markdown",
      "source": [
        "**BINOMIAL TEST**"
      ],
      "metadata": {
        "id": "ZZrO8QAcfVn0"
      }
    },
    {
      "cell_type": "code",
      "source": [
        "from scipy.stats import binomtest\n",
        "\n",
        "# Perform a BINOMIAL TEST to assess whether the observed number of correct trials\n",
        "# significantly deviates from the expected chance level.\n",
        "\n",
        "# The observed data (correct trials out of total) comes from Table 2 in the paper.\n",
        "# The chance levels for each task are defined in the Methods section.\n",
        "\n",
        "\n",
        "observed_successes = 4  # Number of correct responses (from Table 2)\n",
        "total_trials = 30        # Total number of trials (from Table 2)\n",
        "chance_level = 0.25      # chance-level of the task (in Methods)\n",
        "\n",
        "\n",
        "result = binomtest(observed_successes, total_trials, chance_level, alternative='two-sided')\n",
        "p_value = result.pvalue\n",
        "\n",
        "\n",
        "print(p_value)\n",
        "alpha = 0.05\n",
        "\n",
        "if p_value < alpha:\n",
        "    print(\"Performance is significantly different from chance (p < 0.05).\")\n",
        "else:\n",
        "    print(\"Performance is NOT significantly different from chance.\")"
      ],
      "metadata": {
        "colab": {
          "base_uri": "https://localhost:8080/"
        },
        "id": "d6NqputfZhVf",
        "outputId": "2a504d73-a685-475b-f81e-1d1904e2dcdb"
      },
      "execution_count": 8,
      "outputs": [
        {
          "output_type": "stream",
          "name": "stdout",
          "text": [
            "0.20359772225731598\n",
            "Performance is NOT significantly different from chance.\n"
          ]
        }
      ]
    },
    {
      "cell_type": "markdown",
      "source": [
        "**PERMUTATION TEST**"
      ],
      "metadata": {
        "id": "8T08H10Dfaem"
      }
    },
    {
      "cell_type": "code",
      "source": [
        "import numpy as np\n",
        "\n",
        "# set a random seed for reproducibility\n",
        "np.random.seed(42)\n",
        "\n",
        "# For tasks without a well-defined chance level (e.g., WISC-R Block Design and Hand Gestures tasks),\n",
        "# we use permutation testing to assess whether performance with the left hand significantly differs from the right hand.\n",
        "\n",
        "# Input the data for each hand as a binary array, where 1 represents a correct response\n",
        "# and 0 represents an incorrect response. The data is from Table 2 in the paper.\n",
        "# Example: performance of 3/4 is represented as [1,1,1,0].\n",
        "\n",
        "right_hand = [1,1,1,0]\n",
        "left_hand = [0,0,0]\n",
        "\n",
        "# Get prop correct per hand and then their differences\n",
        "prop_right = np.mean(right_hand)\n",
        "prop_left = np.mean(left_hand)\n",
        "observed_diff = abs(prop_right - prop_left)\n",
        "\n",
        "# Combine all data\n",
        "combined_data = np.array(right_hand + left_hand)\n",
        "n_right = len(right_hand)\n",
        "n_left = len(left_hand)\n",
        "\n",
        "# Permutation testing\n",
        "n_iterations = 10000\n",
        "perm_stats = []\n",
        "for i in range(n_iterations):\n",
        "    np.random.shuffle(combined_data)\n",
        "    perm_right = combined_data[:n_right] # assign the first part (length = right hand array) to right hand\n",
        "    perm_left = combined_data[n_right:] # assign the remaining part to left hand\n",
        "    perm_stat = abs(np.mean(perm_right) - np.mean(perm_left))\n",
        "    perm_stats.append(perm_stat)\n",
        "\n",
        "# Calculate p-value\n",
        "perm_stats = np.array(perm_stats)\n",
        "p_value = np.sum(perm_stats >= observed_diff) / n_iterations\n",
        "\n",
        "print(f\"Observed Difference: {observed_diff}\")\n",
        "print(f\"p-value: {p_value}\")"
      ],
      "metadata": {
        "colab": {
          "base_uri": "https://localhost:8080/"
        },
        "id": "cgpuV63VfdTQ",
        "outputId": "607437c5-ebff-484c-a8c9-cd36a4ecaa52"
      },
      "execution_count": 9,
      "outputs": [
        {
          "output_type": "stream",
          "name": "stdout",
          "text": [
            "Observed Difference: 0.75\n",
            "p-value: 0.1489\n"
          ]
        }
      ]
    },
    {
      "cell_type": "markdown",
      "source": [
        "**MONTE CARLO SIMULATION**"
      ],
      "metadata": {
        "id": "GtM7uSGNfkeH"
      }
    },
    {
      "cell_type": "code",
      "source": [
        "import numpy as np\n",
        "\n",
        "# Random seed for reproducibility\n",
        "np.random.seed(42)\n",
        "\n",
        "# Observed data\n",
        "observed_correct = 4\n",
        "total_trials = 30\n",
        "chance_prob= 0.5\n",
        "\n",
        "num_permutations = 10000\n",
        "\n",
        "# observed accuracy\n",
        "observed_accuracy = observed_correct / total_trials\n",
        "\n",
        "# Generate accuracy under the null hypothesis\n",
        "def generate_null_distribution(total_trials, num_permutations, prob=chance_prob):\n",
        "    null_distribution = []\n",
        "    for i in range(num_permutations):\n",
        "        simulated_data = np.random.binomial(n=1, p=prob, size=total_trials)\n",
        "        null_accuracy = np.sum(simulated_data) / total_trials\n",
        "        null_distribution.append(null_accuracy)\n",
        "    return null_distribution\n",
        "\n",
        "# Generate null distribution\n",
        "null_distribution = generate_null_distribution(total_trials, num_permutations, prob=chance_prob)\n",
        "\n",
        "# p-value (two-sided)\n",
        "extreme_count = np.sum(np.abs(np.array(null_distribution) - chance_prob) >= np.abs(observed_accuracy - chance_prob))\n",
        "p_value = extreme_count / num_permutations\n",
        "\n",
        "\n",
        "# Results\n",
        "print(p_value)\n",
        "alpha = 0.05\n",
        "if p_value < alpha:\n",
        "    print(\"different from chance (p < 0.05).\")\n",
        "else:\n",
        "    print(\"NOT different from chance.\")"
      ],
      "metadata": {
        "colab": {
          "base_uri": "https://localhost:8080/"
        },
        "id": "K97Fsw0pf46i",
        "outputId": "58211fbe-b2d0-4820-c850-2534b63bf774"
      },
      "execution_count": 10,
      "outputs": [
        {
          "output_type": "stream",
          "name": "stdout",
          "text": [
            "0.0\n",
            "different from chance (p < 0.05).\n"
          ]
        }
      ]
    }
  ]
}